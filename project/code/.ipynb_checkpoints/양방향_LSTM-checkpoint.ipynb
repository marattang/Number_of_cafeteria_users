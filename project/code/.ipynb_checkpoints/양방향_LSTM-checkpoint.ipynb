{
 "cells": [
  {
   "cell_type": "code",
   "execution_count": null,
   "metadata": {
    "colab": {
     "base_uri": "https://localhost:8080/"
    },
    "executionInfo": {
     "elapsed": 14558,
     "status": "ok",
     "timestamp": 1625052191874,
     "user": {
      "displayName": "장준보",
      "photoUrl": "https://lh3.googleusercontent.com/a-/AOh14Gi1wOQ7PGKpBDsWEmPjG2rFr7idPoKgnOwi5x4h=s64",
      "userId": "12796992458142872403"
     },
     "user_tz": -540
    },
    "id": "VADI0ZPOy4CP",
    "outputId": "7e3228ec-3dd9-49fb-cb27-29c99c702efa"
   },
   "outputs": [],
   "source": [
    "from google.colab import drive\n",
    "drive.mount('/content/drive')"
   ]
  },
  {
   "cell_type": "code",
   "execution_count": 2,
   "metadata": {
    "executionInfo": {
     "elapsed": 1741,
     "status": "ok",
     "timestamp": 1625052195129,
     "user": {
      "displayName": "장준보",
      "photoUrl": "https://lh3.googleusercontent.com/a-/AOh14Gi1wOQ7PGKpBDsWEmPjG2rFr7idPoKgnOwi5x4h=s64",
      "userId": "12796992458142872403"
     },
     "user_tz": -540
    },
    "id": "ZcKmTX6PMzBv"
   },
   "outputs": [],
   "source": [
    "import pandas as pd\n",
    "import numpy as np\n",
    "import re\n",
    "\n",
    "import seaborn as sns\n",
    "import matplotlib.pyplot as plt\n",
    "\n",
    "from sklearn.metrics import accuracy_score, log_loss\n",
    "from sklearn.model_selection import StratifiedKFold\n",
    "\n",
    "import tensorflow as tf\n",
    "from tensorflow.keras import Sequential\n",
    "from tensorflow.keras.layers import Dense, Embedding, LSTM, Dropout, Bidirectional\n",
    "from tensorflow.keras.preprocessing.sequence import pad_sequences\n",
    "from tensorflow.keras.preprocessing.text import Tokenizer\n",
    "from tensorflow.keras.callbacks import EarlyStopping, ReduceLROnPlateau\n",
    "from tensorflow.keras.utils import plot_model, to_categorical\n",
    "from tensorflow.keras.optimizers import Adam\n",
    "\n",
    "from keras.utils import np_utils\n",
    "\n",
    "import warnings \n",
    "warnings.filterwarnings(action='ignore')"
   ]
  },
  {
   "cell_type": "markdown",
   "metadata": {
    "id": "--G-gYDrGezN"
   },
   "source": [
    "# 1.NLP Preprocessing\n"
   ]
  },
  {
   "cell_type": "markdown",
   "metadata": {
    "id": "DQ6f_DVUJi1w"
   },
   "source": [
    "## 1-1. 데이터 불러오기"
   ]
  },
  {
   "cell_type": "code",
   "execution_count": 4,
   "metadata": {
    "executionInfo": {
     "elapsed": 338,
     "status": "ok",
     "timestamp": 1625052218870,
     "user": {
      "displayName": "장준보",
      "photoUrl": "https://lh3.googleusercontent.com/a-/AOh14Gi1wOQ7PGKpBDsWEmPjG2rFr7idPoKgnOwi5x4h=s64",
      "userId": "12796992458142872403"
     },
     "user_tz": -540
    },
    "id": "UAk5UoCMqQDS"
   },
   "outputs": [],
   "source": [
    "PATH = '/content/drive/MyDrive/news/'"
   ]
  },
  {
   "cell_type": "code",
   "execution_count": 14,
   "metadata": {
    "executionInfo": {
     "elapsed": 345,
     "status": "ok",
     "timestamp": 1625052362209,
     "user": {
      "displayName": "장준보",
      "photoUrl": "https://lh3.googleusercontent.com/a-/AOh14Gi1wOQ7PGKpBDsWEmPjG2rFr7idPoKgnOwi5x4h=s64",
      "userId": "12796992458142872403"
     },
     "user_tz": -540
    },
    "id": "eFKC0rSZqNsO"
   },
   "outputs": [],
   "source": [
    "train = pd.read_csv(PATH + \"train_data.csv\")\n",
    "test = pd.read_csv(PATH + \"test_data.csv\")\n",
    "submission = pd.read_csv(PATH + \"sample_submission.csv\")"
   ]
  },
  {
   "cell_type": "code",
   "execution_count": 15,
   "metadata": {
    "colab": {
     "base_uri": "https://localhost:8080/",
     "height": 422
    },
    "executionInfo": {
     "elapsed": 5,
     "status": "ok",
     "timestamp": 1625052362882,
     "user": {
      "displayName": "장준보",
      "photoUrl": "https://lh3.googleusercontent.com/a-/AOh14Gi1wOQ7PGKpBDsWEmPjG2rFr7idPoKgnOwi5x4h=s64",
      "userId": "12796992458142872403"
     },
     "user_tz": -540
    },
    "id": "MYizgrcGqfcq",
    "outputId": "5adfea5e-7d19-4a0d-9c44-e5d0a90344e0"
   },
   "outputs": [
    {
     "data": {
      "text/html": [
       "<div>\n",
       "<style scoped>\n",
       "    .dataframe tbody tr th:only-of-type {\n",
       "        vertical-align: middle;\n",
       "    }\n",
       "\n",
       "    .dataframe tbody tr th {\n",
       "        vertical-align: top;\n",
       "    }\n",
       "\n",
       "    .dataframe thead th {\n",
       "        text-align: right;\n",
       "    }\n",
       "</style>\n",
       "<table border=\"1\" class=\"dataframe\">\n",
       "  <thead>\n",
       "    <tr style=\"text-align: right;\">\n",
       "      <th></th>\n",
       "      <th>index</th>\n",
       "      <th>title</th>\n",
       "      <th>topic_idx</th>\n",
       "    </tr>\n",
       "  </thead>\n",
       "  <tbody>\n",
       "    <tr>\n",
       "      <th>0</th>\n",
       "      <td>0</td>\n",
       "      <td>인천→핀란드 항공기 결항…휴가철 여행객 분통</td>\n",
       "      <td>4</td>\n",
       "    </tr>\n",
       "    <tr>\n",
       "      <th>1</th>\n",
       "      <td>1</td>\n",
       "      <td>실리콘밸리 넘어서겠다…구글 15조원 들여 美전역 거점화</td>\n",
       "      <td>4</td>\n",
       "    </tr>\n",
       "    <tr>\n",
       "      <th>2</th>\n",
       "      <td>2</td>\n",
       "      <td>이란 외무 긴장완화 해결책은 미국이 경제전쟁 멈추는 것</td>\n",
       "      <td>4</td>\n",
       "    </tr>\n",
       "    <tr>\n",
       "      <th>3</th>\n",
       "      <td>3</td>\n",
       "      <td>NYT 클린턴 측근韓기업 특수관계 조명…공과 사 맞물려종합</td>\n",
       "      <td>4</td>\n",
       "    </tr>\n",
       "    <tr>\n",
       "      <th>4</th>\n",
       "      <td>4</td>\n",
       "      <td>시진핑 트럼프에 중미 무역협상 조속 타결 희망</td>\n",
       "      <td>4</td>\n",
       "    </tr>\n",
       "    <tr>\n",
       "      <th>...</th>\n",
       "      <td>...</td>\n",
       "      <td>...</td>\n",
       "      <td>...</td>\n",
       "    </tr>\n",
       "    <tr>\n",
       "      <th>45649</th>\n",
       "      <td>45649</td>\n",
       "      <td>KB금융 미국 IB 스티펠과 제휴…선진국 시장 공략</td>\n",
       "      <td>1</td>\n",
       "    </tr>\n",
       "    <tr>\n",
       "      <th>45650</th>\n",
       "      <td>45650</td>\n",
       "      <td>1보 서울시교육청 신종코로나 확산에 개학 연기·휴업 검토</td>\n",
       "      <td>2</td>\n",
       "    </tr>\n",
       "    <tr>\n",
       "      <th>45651</th>\n",
       "      <td>45651</td>\n",
       "      <td>게시판 키움증권 2020 키움 영웅전 실전투자대회</td>\n",
       "      <td>1</td>\n",
       "    </tr>\n",
       "    <tr>\n",
       "      <th>45652</th>\n",
       "      <td>45652</td>\n",
       "      <td>답변하는 배기동 국립중앙박물관장</td>\n",
       "      <td>2</td>\n",
       "    </tr>\n",
       "    <tr>\n",
       "      <th>45653</th>\n",
       "      <td>45653</td>\n",
       "      <td>2020 한국인터넷기자상 시상식 내달 1일 개최…특별상 김성후</td>\n",
       "      <td>2</td>\n",
       "    </tr>\n",
       "  </tbody>\n",
       "</table>\n",
       "<p>45654 rows × 3 columns</p>\n",
       "</div>"
      ],
      "text/plain": [
       "       index                               title  topic_idx\n",
       "0          0            인천→핀란드 항공기 결항…휴가철 여행객 분통          4\n",
       "1          1      실리콘밸리 넘어서겠다…구글 15조원 들여 美전역 거점화          4\n",
       "2          2      이란 외무 긴장완화 해결책은 미국이 경제전쟁 멈추는 것          4\n",
       "3          3    NYT 클린턴 측근韓기업 특수관계 조명…공과 사 맞물려종합          4\n",
       "4          4           시진핑 트럼프에 중미 무역협상 조속 타결 희망          4\n",
       "...      ...                                 ...        ...\n",
       "45649  45649        KB금융 미국 IB 스티펠과 제휴…선진국 시장 공략          1\n",
       "45650  45650     1보 서울시교육청 신종코로나 확산에 개학 연기·휴업 검토          2\n",
       "45651  45651         게시판 키움증권 2020 키움 영웅전 실전투자대회          1\n",
       "45652  45652                   답변하는 배기동 국립중앙박물관장          2\n",
       "45653  45653  2020 한국인터넷기자상 시상식 내달 1일 개최…특별상 김성후          2\n",
       "\n",
       "[45654 rows x 3 columns]"
      ]
     },
     "execution_count": 15,
     "metadata": {
      "tags": []
     },
     "output_type": "execute_result"
    }
   ],
   "source": [
    "train"
   ]
  },
  {
   "cell_type": "markdown",
   "metadata": {
    "id": "xGHhCHkNJ37Q"
   },
   "source": [
    "## 1-3. 데이터 시각화"
   ]
  },
  {
   "cell_type": "code",
   "execution_count": 16,
   "metadata": {
    "colab": {
     "base_uri": "https://localhost:8080/",
     "height": 311
    },
    "executionInfo": {
     "elapsed": 513,
     "status": "ok",
     "timestamp": 1625052367076,
     "user": {
      "displayName": "장준보",
      "photoUrl": "https://lh3.googleusercontent.com/a-/AOh14Gi1wOQ7PGKpBDsWEmPjG2rFr7idPoKgnOwi5x4h=s64",
      "userId": "12796992458142872403"
     },
     "user_tz": -540
    },
    "id": "z728ti3yKGmt",
    "outputId": "c88b4ac7-21d5-41c7-9dfc-19ecb0843e86"
   },
   "outputs": [
    {
     "data": {
      "text/plain": [
       "<matplotlib.axes._subplots.AxesSubplot at 0x7f4db47e5210>"
      ]
     },
     "execution_count": 16,
     "metadata": {
      "tags": []
     },
     "output_type": "execute_result"
    },
    {
     "data": {
      "image/png": "[encoded data removed]",
      "text/plain": [
       "<Figure size 432x288 with 1 Axes>"
      ]
     },
     "metadata": {
      "needs_background": "light",
      "tags": []
     },
     "output_type": "display_data"
    }
   ],
   "source": [
    "# 작가별 분포도 확인 \n",
    "train.groupby(train.topic_idx).size().reset_index(name=\"counts\").plot.bar(x='topic_idx',title=\"Samples per each class (Training set)\")"
   ]
  },
  {
   "cell_type": "code",
   "execution_count": 17,
   "metadata": {
    "colab": {
     "base_uri": "https://localhost:8080/",
     "height": 299
    },
    "executionInfo": {
     "elapsed": 1156,
     "status": "ok",
     "timestamp": 1625052371643,
     "user": {
      "displayName": "장준보",
      "photoUrl": "https://lh3.googleusercontent.com/a-/AOh14Gi1wOQ7PGKpBDsWEmPjG2rFr7idPoKgnOwi5x4h=s64",
      "userId": "12796992458142872403"
     },
     "user_tz": -540
    },
    "id": "R_Tt-BQAUHWn",
    "outputId": "e724307b-1cbe-4d3f-c2b6-b7e8210e9b46"
   },
   "outputs": [
    {
     "data": {
      "image/png": "[encoded data removed]",
      "text/plain": [
       "<Figure size 432x288 with 1 Axes>"
      ]
     },
     "metadata": {
      "needs_background": "light",
      "tags": []
     },
     "output_type": "display_data"
    },
    {
     "name": "stdout",
     "output_type": "stream",
     "text": [
      " 가장 긴 문장은 13 개의 단어를, 가장 짧은 문장은 1 개의 단어를 가지고 있습니다.\n"
     ]
    }
   ],
   "source": [
    "# 문장 길이 분포도 확인\n",
    "train['doc_len'] = train.title.apply(lambda words: len(words.split()))\n",
    "\n",
    "def plot_doc_lengths(dataframe):\n",
    "    mean_seq_len = np.round(dataframe.doc_len.mean()).astype(int)\n",
    "    sns.distplot(tuple(dataframe.doc_len), hist=True, kde=True, label='Document lengths')\n",
    "    plt.axvline(x=mean_seq_len, color='k', linestyle='--', label=f'Sequence length mean:{mean_seq_len}')\n",
    "    plt.title('Document lengths')\n",
    "    plt.legend()\n",
    "    plt.show()\n",
    "    print(f\" 가장 긴 문장은 {train['doc_len'].max()} 개의 단어를, 가장 짧은 문장은 {train['doc_len'].min()} 개의 단어를 가지고 있습니다.\")\n",
    "\n",
    "plot_doc_lengths(train)"
   ]
  },
  {
   "cell_type": "markdown",
   "metadata": {
    "id": "6XUWhjzHXdRU"
   },
   "source": [
    "위 그래프에서 확인했듯 평균 길이는 20 인 것을 알 수 있다.\n",
    "차후 sequence에 적용할 max length는 150 정도로 적당히 잡아준다"
   ]
  },
  {
   "cell_type": "markdown",
   "metadata": {
    "id": "l9UbFyQ6GhIv"
   },
   "source": [
    "# 2.Vectorization"
   ]
  },
  {
   "cell_type": "markdown",
   "metadata": {
    "id": "EzLbZulJKIvh"
   },
   "source": [
    "## 2.1 Tokenization"
   ]
  },
  {
   "cell_type": "code",
   "execution_count": 18,
   "metadata": {
    "colab": {
     "base_uri": "https://localhost:8080/"
    },
    "executionInfo": {
     "elapsed": 334,
     "status": "ok",
     "timestamp": 1625052403942,
     "user": {
      "displayName": "장준보",
      "photoUrl": "https://lh3.googleusercontent.com/a-/AOh14Gi1wOQ7PGKpBDsWEmPjG2rFr7idPoKgnOwi5x4h=s64",
      "userId": "12796992458142872403"
     },
     "user_tz": -540
    },
    "id": "uFDehWxKGiPo",
    "outputId": "5323268f-0289-4ead-bb56-f1d5612e7bc1"
   },
   "outputs": [
    {
     "name": "stdout",
     "output_type": "stream",
     "text": [
      "(45654,)\n",
      "(9131,)\n",
      "(45654,)\n"
     ]
    }
   ],
   "source": [
    "# 먼저 train 데이터와 test 데이터 인덱스 없이 배열로 만들기\n",
    "X_train = np.array([x for x in train['title']])\n",
    "X_test = np.array([x for x in test['title']])\n",
    "Y_train = np.array([x for x in train['topic_idx']])\n",
    "\n",
    "print(X_train.shape)\n",
    "print(X_test.shape)\n",
    "print(Y_train.shape)"
   ]
  },
  {
   "cell_type": "code",
   "execution_count": 19,
   "metadata": {
    "colab": {
     "base_uri": "https://localhost:8080/"
    },
    "executionInfo": {
     "elapsed": 335,
     "status": "ok",
     "timestamp": 1625052407391,
     "user": {
      "displayName": "장준보",
      "photoUrl": "https://lh3.googleusercontent.com/a-/AOh14Gi1wOQ7PGKpBDsWEmPjG2rFr7idPoKgnOwi5x4h=s64",
      "userId": "12796992458142872403"
     },
     "user_tz": -540
    },
    "id": "oCPFIIPE7Myv",
    "outputId": "371dea12-5906-4fd6-97c3-d6d1b7048483"
   },
   "outputs": [
    {
     "name": "stdout",
     "output_type": "stream",
     "text": [
      "['인천→핀란드 항공기 결항…휴가철 여행객 분통' '실리콘밸리 넘어서겠다…구글 15조원 들여 美전역 거점화'\n",
      " '이란 외무 긴장완화 해결책은 미국이 경제전쟁 멈추는 것' ... '게시판 키움증권 2020 키움 영웅전 실전투자대회'\n",
      " '답변하는 배기동 국립중앙박물관장' '2020 한국인터넷기자상 시상식 내달 1일 개최…특별상 김성후']\n",
      "['유튜브 내달 2일까지 크리에이터 지원 공간 운영' '어버이날 맑다가 흐려져…남부지방 옅은 황사'\n",
      " '내년부터 국가RD 평가 때 논문건수는 반영 않는다' ... '40년 전 부마항쟁 부산 시위 사진 2점 최초 공개'\n",
      " '게시판 아리랑TV 아프리카개발은행 총회 개회식 생중계' '유영민 과기장관 강소특구는 지역 혁신의 중심…지원책 강구']\n",
      "[4 4 4 ... 1 2 2]\n"
     ]
    }
   ],
   "source": [
    "print(X_train)\n",
    "print(X_test)\n",
    "print(Y_train)"
   ]
  },
  {
   "cell_type": "code",
   "execution_count": 20,
   "metadata": {
    "colab": {
     "base_uri": "https://localhost:8080/"
    },
    "executionInfo": {
     "elapsed": 1824,
     "status": "ok",
     "timestamp": 1625052413367,
     "user": {
      "displayName": "장준보",
      "photoUrl": "https://lh3.googleusercontent.com/a-/AOh14Gi1wOQ7PGKpBDsWEmPjG2rFr7idPoKgnOwi5x4h=s64",
      "userId": "12796992458142872403"
     },
     "user_tz": -540
    },
    "id": "xLGUMIF_QZrT",
    "outputId": "a220f1a5-7cb3-4b14-c4b5-4ded852741c5"
   },
   "outputs": [
    {
     "name": "stdout",
     "output_type": "stream",
     "text": [
      "45654 9131\n"
     ]
    }
   ],
   "source": [
    "# Tokenizer\n",
    "from keras.preprocessing.text import Tokenizer\n",
    "vocab_size = 2000  \n",
    "\n",
    "tokenizer = Tokenizer(num_words = vocab_size)  \n",
    "  # Tokenizer 는 데이터에 출현하는 모든 단어의 개수를 세고 빈도 수로 정렬해서 \n",
    "  # num_words 에 지정된 만큼만 숫자로 반환하고, 나머지는 0 으로 반환합니다                 \n",
    "tokenizer.fit_on_texts(X_train) # Tokenizer 에 데이터 실제로 입력\n",
    "sequences_train = tokenizer.texts_to_sequences(X_train)    # 문장 내 모든 단어를 시퀀스 번호로 변환\n",
    "sequences_test = tokenizer.texts_to_sequences(X_test)      # 문장 내 모든 단어를 시퀀스 번호로 변환\n",
    "\n",
    "print(len(sequences_train), len(sequences_test))"
   ]
  },
  {
   "cell_type": "markdown",
   "metadata": {
    "id": "BjNHfzRdqDq2"
   },
   "source": [
    "# 3.Embediing"
   ]
  },
  {
   "cell_type": "code",
   "execution_count": 21,
   "metadata": {
    "executionInfo": {
     "elapsed": 532,
     "status": "ok",
     "timestamp": 1625052416978,
     "user": {
      "displayName": "장준보",
      "photoUrl": "https://lh3.googleusercontent.com/a-/AOh14Gi1wOQ7PGKpBDsWEmPjG2rFr7idPoKgnOwi5x4h=s64",
      "userId": "12796992458142872403"
     },
     "user_tz": -540
    },
    "id": "9gm-SKAdqF0E"
   },
   "outputs": [],
   "source": [
    "# 변환된 시퀀스 번호를 이용해 단어 임베딩 벡터 생성\n",
    "word_index = tokenizer.word_index"
   ]
  },
  {
   "cell_type": "code",
   "execution_count": 22,
   "metadata": {
    "colab": {
     "base_uri": "https://localhost:8080/"
    },
    "executionInfo": {
     "elapsed": 537,
     "status": "ok",
     "timestamp": 1625052514162,
     "user": {
      "displayName": "장준보",
      "photoUrl": "https://lh3.googleusercontent.com/a-/AOh14Gi1wOQ7PGKpBDsWEmPjG2rFr7idPoKgnOwi5x4h=s64",
      "userId": "12796992458142872403"
     },
     "user_tz": -540
    },
    "id": "DzEwpIFTjfaE",
    "outputId": "097d1ae8-ddb7-47fc-afbb-36877c856c25"
   },
   "outputs": [
    {
     "name": "stdout",
     "output_type": "stream",
     "text": [
      "(45654, 14) (9131, 14)\n"
     ]
    }
   ],
   "source": [
    "# 독립변수 데이터 전처리\n",
    "  ## 문장의 길이기 제각각이기 때문에 벡터 크기 다 다름\n",
    "  ## 그러므로 최대 시퀀스 길이 크기(211) 만큼 넉넉하게 늘리고\n",
    "  ## 패딩(padding) 작업을 통해 나머지 빈 공간을 0으로 채움\n",
    "max_length = 14    # 위에서 그래프 확인 후 정함\n",
    "padding_type='post'\n",
    "\n",
    "train_x = pad_sequences(sequences_train, padding='post', maxlen=max_length)\n",
    "test_x = pad_sequences(sequences_test, padding=padding_type, maxlen=max_length)\n",
    "\n",
    "print(train_x.shape, test_x.shape)"
   ]
  },
  {
   "cell_type": "code",
   "execution_count": 23,
   "metadata": {
    "colab": {
     "base_uri": "https://localhost:8080/"
    },
    "executionInfo": {
     "elapsed": 5,
     "status": "ok",
     "timestamp": 1625052517160,
     "user": {
      "displayName": "장준보",
      "photoUrl": "https://lh3.googleusercontent.com/a-/AOh14Gi1wOQ7PGKpBDsWEmPjG2rFr7idPoKgnOwi5x4h=s64",
      "userId": "12796992458142872403"
     },
     "user_tz": -540
    },
    "id": "nMAsOn_vUBsC",
    "outputId": "36b7ce8f-b2ac-4fb5-c75f-3dd1d3704512"
   },
   "outputs": [
    {
     "name": "stdout",
     "output_type": "stream",
     "text": [
      "[[0. 0. 0. ... 1. 0. 0.]\n",
      " [0. 0. 0. ... 1. 0. 0.]\n",
      " [0. 0. 0. ... 1. 0. 0.]\n",
      " ...\n",
      " [0. 1. 0. ... 0. 0. 0.]\n",
      " [0. 0. 1. ... 0. 0. 0.]\n",
      " [0. 0. 1. ... 0. 0. 0.]]\n",
      "(45654, 7)\n"
     ]
    }
   ],
   "source": [
    "# 종속변수 데이터 전처리\n",
    "train_y = np_utils.to_categorical(Y_train) # Y_train 에 원-핫 인코딩\n",
    "print(train_y)\n",
    "print(train_y.shape)"
   ]
  },
  {
   "cell_type": "markdown",
   "metadata": {
    "id": "4q-bHpKrGkH9"
   },
   "source": [
    "# 4.Modeling "
   ]
  },
  {
   "cell_type": "markdown",
   "metadata": {
    "id": "XG2JaKxWJxPt"
   },
   "source": [
    "## 4.1 simple RNN"
   ]
  },
  {
   "cell_type": "code",
   "execution_count": 24,
   "metadata": {
    "executionInfo": {
     "elapsed": 354,
     "status": "ok",
     "timestamp": 1625052543275,
     "user": {
      "displayName": "장준보",
      "photoUrl": "https://lh3.googleusercontent.com/a-/AOh14Gi1wOQ7PGKpBDsWEmPjG2rFr7idPoKgnOwi5x4h=s64",
      "userId": "12796992458142872403"
     },
     "user_tz": -540
    },
    "id": "VmjXmaoYJ5HO"
   },
   "outputs": [],
   "source": [
    "#파라미터 설정\n",
    "vocab_size = 2000 # 제일 많이 사용하는 사이즈\n",
    "embedding_dim = 200  \n",
    "max_length = 14    # 위에서 그래프 확인 후 정함\n",
    "padding_type='post'"
   ]
  },
  {
   "cell_type": "code",
   "execution_count": 25,
   "metadata": {
    "colab": {
     "base_uri": "https://localhost:8080/"
    },
    "executionInfo": {
     "elapsed": 3129,
     "status": "ok",
     "timestamp": 1625052569457,
     "user": {
      "displayName": "장준보",
      "photoUrl": "https://lh3.googleusercontent.com/a-/AOh14Gi1wOQ7PGKpBDsWEmPjG2rFr7idPoKgnOwi5x4h=s64",
      "userId": "12796992458142872403"
     },
     "user_tz": -540
    },
    "id": "fJXn74SMJ8ay",
    "outputId": "1324399e-93a4-4694-ddbc-dd27398363d1"
   },
   "outputs": [
    {
     "name": "stdout",
     "output_type": "stream",
     "text": [
      "Model: \"sequential\"\n",
      "_________________________________________________________________\n",
      "Layer (type)                 Output Shape              Param #   \n",
      "=================================================================\n",
      "embedding (Embedding)        (None, 14, 200)           400000    \n",
      "_________________________________________________________________\n",
      "simple_rnn (SimpleRNN)       (None, 14, 64)            16960     \n",
      "_________________________________________________________________\n",
      "simple_rnn_1 (SimpleRNN)     (None, 14, 64)            8256      \n",
      "_________________________________________________________________\n",
      "simple_rnn_2 (SimpleRNN)     (None, 64)                8256      \n",
      "_________________________________________________________________\n",
      "dense (Dense)                (None, 7)                 455       \n",
      "=================================================================\n",
      "Total params: 433,927\n",
      "Trainable params: 433,927\n",
      "Non-trainable params: 0\n",
      "_________________________________________________________________\n"
     ]
    }
   ],
   "source": [
    "# Simple RNN 레이어를 사용한 모델 (model1) 정의\n",
    "model1 = Sequential([Embedding(vocab_size, embedding_dim, input_length =max_length),\n",
    "        tf.keras.layers.SimpleRNN(units = 64, return_sequences = True),\n",
    "        tf.keras.layers.SimpleRNN(units = 64, return_sequences = True),\n",
    "        tf.keras.layers.SimpleRNN(units = 64),\n",
    "        Dense(7, activation='softmax')    # 결과값이 0~4 이므로 Dense(5)\n",
    "    ])\n",
    "    \n",
    "model1.compile(loss= 'categorical_crossentropy', #여러개 정답 중 하나 맞추는 문제이므로 손실 함수는 categorical_crossentropy\n",
    "              optimizer= 'adam',\n",
    "              metrics = ['accuracy']) \n",
    "model1.summary()"
   ]
  },
  {
   "cell_type": "code",
   "execution_count": 26,
   "metadata": {
    "colab": {
     "base_uri": "https://localhost:8080/"
    },
    "executionInfo": {
     "elapsed": 144910,
     "status": "ok",
     "timestamp": 1625052719273,
     "user": {
      "displayName": "장준보",
      "photoUrl": "https://lh3.googleusercontent.com/a-/AOh14Gi1wOQ7PGKpBDsWEmPjG2rFr7idPoKgnOwi5x4h=s64",
      "userId": "12796992458142872403"
     },
     "user_tz": -540
    },
    "id": "xdIzrIuGKwI-",
    "outputId": "6a01cfb8-c777-4635-b171-89b12633d907"
   },
   "outputs": [
    {
     "name": "stdout",
     "output_type": "stream",
     "text": [
      "Epoch 1/10\n",
      "366/366 [==============================] - 17s 39ms/step - loss: 1.0058 - accuracy: 0.6494 - val_loss: 1.3672 - val_accuracy: 0.4691\n",
      "Epoch 2/10\n",
      "366/366 [==============================] - 14s 39ms/step - loss: 0.7464 - accuracy: 0.7417 - val_loss: 1.2445 - val_accuracy: 0.5481\n",
      "Epoch 3/10\n",
      "366/366 [==============================] - 14s 39ms/step - loss: 0.6735 - accuracy: 0.7595 - val_loss: 1.1472 - val_accuracy: 0.5786\n",
      "Epoch 4/10\n",
      "366/366 [==============================] - 14s 38ms/step - loss: 0.6208 - accuracy: 0.7761 - val_loss: 1.2677 - val_accuracy: 0.5557\n",
      "Epoch 5/10\n",
      "366/366 [==============================] - 14s 38ms/step - loss: 0.5791 - accuracy: 0.7894 - val_loss: 1.2829 - val_accuracy: 0.5642\n",
      "Epoch 6/10\n",
      "366/366 [==============================] - 14s 39ms/step - loss: 0.5394 - accuracy: 0.8018 - val_loss: 1.2951 - val_accuracy: 0.5677\n",
      "Epoch 7/10\n",
      "366/366 [==============================] - 14s 38ms/step - loss: 0.5110 - accuracy: 0.8091 - val_loss: 1.3977 - val_accuracy: 0.5432\n",
      "Epoch 8/10\n",
      "366/366 [==============================] - 14s 39ms/step - loss: 0.4843 - accuracy: 0.8187 - val_loss: 1.4651 - val_accuracy: 0.5484\n",
      "Epoch 9/10\n",
      "366/366 [==============================] - 14s 38ms/step - loss: 0.4608 - accuracy: 0.8269 - val_loss: 1.5366 - val_accuracy: 0.5378\n",
      "Epoch 10/10\n",
      "366/366 [==============================] - 14s 39ms/step - loss: 0.4420 - accuracy: 0.8327 - val_loss: 1.5885 - val_accuracy: 0.5222\n"
     ]
    }
   ],
   "source": [
    "# 모델 실행해보기\n",
    "history = model1.fit(train_x, train_y, epochs=10, batch_size=100, validation_split= 0.2) \n",
    "  # 데이터가 50000개가 넘어 학습시간이 오래 걸리기 때문에 batch size 를 100으로 크게 잡았다\n",
    "  # 추이를 확인하게 위해 일단 10회만 시도"
   ]
  },
  {
   "cell_type": "code",
   "execution_count": 27,
   "metadata": {
    "colab": {
     "base_uri": "https://localhost:8080/",
     "height": 315
    },
    "executionInfo": {
     "elapsed": 1058,
     "status": "ok",
     "timestamp": 1625052730164,
     "user": {
      "displayName": "장준보",
      "photoUrl": "https://lh3.googleusercontent.com/a-/AOh14Gi1wOQ7PGKpBDsWEmPjG2rFr7idPoKgnOwi5x4h=s64",
      "userId": "12796992458142872403"
     },
     "user_tz": -540
    },
    "id": "CgQIHORMKx_L",
    "outputId": "3da48453-138e-40c0-ec04-2db14bf2809d"
   },
   "outputs": [
    {
     "data": {
      "text/plain": [
       "<function matplotlib.pyplot.show>"
      ]
     },
     "execution_count": 27,
     "metadata": {
      "tags": []
     },
     "output_type": "execute_result"
    },
    {
     "data": {
      "image/png": "[encoded data removed]",
      "text/plain": [
       "<Figure size 864x288 with 2 Axes>"
      ]
     },
     "metadata": {
      "needs_background": "light",
      "tags": []
     },
     "output_type": "display_data"
    }
   ],
   "source": [
    "# Simple RNN 모델 (model1) 학습 결과 확인\n",
    "plt.figure(figsize=(12, 4))\n",
    "plt.title('Simple RNN (model1) ', fontsize= 15)\n",
    "\n",
    "plt.subplot(1, 2, 1)\n",
    "plt.title('loss of Simple RNN (model1) ', fontsize= 15)\n",
    "plt.plot(history.history['loss'], 'b-', label='loss')\n",
    "plt.plot(history.history['val_loss'],'r--', label='val_loss')\n",
    "plt.xlabel('Epoch')\n",
    "plt.legend()\n",
    "\n",
    "plt.subplot(1, 2, 2)\n",
    "plt.title('accuracy of Simple RNN (model1) ', fontsize= 15)\n",
    "plt.plot(history.history['accuracy'], 'g-', label='accuracy')\n",
    "plt.plot(history.history['val_accuracy'],'k--', label='val_accuracy')\n",
    "plt.xlabel('Epoch')\n",
    "plt.legend()\n",
    "plt.show"
   ]
  },
  {
   "cell_type": "markdown",
   "metadata": {
    "id": "p8_78ykiQH28"
   },
   "source": [
    "Simple RNN는 Epoch 한번 당 시간도 오래 걸리고, 학습이 되지 않는 것을 확인할 수 있다."
   ]
  },
  {
   "cell_type": "markdown",
   "metadata": {
    "id": "1a7rVJKthrYv"
   },
   "source": [
    "## 4.2 단방향 LSTM"
   ]
  },
  {
   "cell_type": "code",
   "execution_count": 29,
   "metadata": {
    "executionInfo": {
     "elapsed": 334,
     "status": "ok",
     "timestamp": 1625052744226,
     "user": {
      "displayName": "장준보",
      "photoUrl": "https://lh3.googleusercontent.com/a-/AOh14Gi1wOQ7PGKpBDsWEmPjG2rFr7idPoKgnOwi5x4h=s64",
      "userId": "12796992458142872403"
     },
     "user_tz": -540
    },
    "id": "s3Gpp83ihnlr"
   },
   "outputs": [],
   "source": [
    "#파라미터 설정\n",
    "vocab_size = 2000 # 제일 많이 사용하는 사이즈\n",
    "embedding_dim = 200  \n",
    "max_length = 14    # 위에서 그래프 확인 후 정함\n",
    "padding_type='post'"
   ]
  },
  {
   "cell_type": "code",
   "execution_count": 31,
   "metadata": {
    "colab": {
     "base_uri": "https://localhost:8080/"
    },
    "executionInfo": {
     "elapsed": 1011,
     "status": "ok",
     "timestamp": 1625052752156,
     "user": {
      "displayName": "장준보",
      "photoUrl": "https://lh3.googleusercontent.com/a-/AOh14Gi1wOQ7PGKpBDsWEmPjG2rFr7idPoKgnOwi5x4h=s64",
      "userId": "12796992458142872403"
     },
     "user_tz": -540
    },
    "id": "jdPFG1PZojqD",
    "outputId": "301ab637-3dce-4981-e1ec-af229a312fd6"
   },
   "outputs": [
    {
     "name": "stdout",
     "output_type": "stream",
     "text": [
      "Model: \"sequential_2\"\n",
      "_________________________________________________________________\n",
      "Layer (type)                 Output Shape              Param #   \n",
      "=================================================================\n",
      "embedding_2 (Embedding)      (None, 14, 200)           400000    \n",
      "_________________________________________________________________\n",
      "lstm_3 (LSTM)                (None, 14, 64)            67840     \n",
      "_________________________________________________________________\n",
      "lstm_4 (LSTM)                (None, 14, 64)            33024     \n",
      "_________________________________________________________________\n",
      "lstm_5 (LSTM)                (None, 64)                33024     \n",
      "_________________________________________________________________\n",
      "dense_2 (Dense)              (None, 7)                 455       \n",
      "=================================================================\n",
      "Total params: 534,343\n",
      "Trainable params: 534,343\n",
      "Non-trainable params: 0\n",
      "_________________________________________________________________\n"
     ]
    }
   ],
   "source": [
    "# LSTM 레이어를 사용한 모델 (model2) 정의\n",
    "model2 = Sequential([Embedding(vocab_size, embedding_dim, input_length =max_length),\n",
    "        tf.keras.layers.LSTM(units = 64, return_sequences = True),\n",
    "        tf.keras.layers.LSTM(units = 64, return_sequences = True),\n",
    "        tf.keras.layers.LSTM(units = 64),\n",
    "        Dense(7, activation='softmax')    # 결과값이 0~4 이므로 Dense(5)\n",
    "    ])\n",
    "    \n",
    "model2.compile(loss= 'categorical_crossentropy', #여러개 정답 중 하나 맞추는 문제이므로 손실 함수는 categorical_crossentropy\n",
    "              optimizer= 'adam',\n",
    "              metrics = ['accuracy']) \n",
    "model2.summary()"
   ]
  },
  {
   "cell_type": "code",
   "execution_count": 32,
   "metadata": {
    "colab": {
     "base_uri": "https://localhost:8080/"
    },
    "executionInfo": {
     "elapsed": 43455,
     "status": "ok",
     "timestamp": 1625052796971,
     "user": {
      "displayName": "장준보",
      "photoUrl": "https://lh3.googleusercontent.com/a-/AOh14Gi1wOQ7PGKpBDsWEmPjG2rFr7idPoKgnOwi5x4h=s64",
      "userId": "12796992458142872403"
     },
     "user_tz": -540
    },
    "id": "1oOBPNBtPMEU",
    "outputId": "22b46f45-6078-4664-a83b-d084aa527c54"
   },
   "outputs": [
    {
     "name": "stdout",
     "output_type": "stream",
     "text": [
      "Epoch 1/10\n",
      "366/366 [==============================] - 10s 13ms/step - loss: 1.0782 - accuracy: 0.6051 - val_loss: 1.2989 - val_accuracy: 0.5237\n",
      "Epoch 2/10\n",
      "366/366 [==============================] - 4s 10ms/step - loss: 0.7873 - accuracy: 0.7313 - val_loss: 1.1444 - val_accuracy: 0.5887\n",
      "Epoch 3/10\n",
      "366/366 [==============================] - 4s 10ms/step - loss: 0.7417 - accuracy: 0.7457 - val_loss: 1.1602 - val_accuracy: 0.5570\n",
      "Epoch 4/10\n",
      "366/366 [==============================] - 4s 10ms/step - loss: 0.7187 - accuracy: 0.7523 - val_loss: 1.1912 - val_accuracy: 0.5450\n",
      "Epoch 5/10\n",
      "366/366 [==============================] - 4s 10ms/step - loss: 0.6980 - accuracy: 0.7574 - val_loss: 1.1227 - val_accuracy: 0.5816\n",
      "Epoch 6/10\n",
      "366/366 [==============================] - 4s 10ms/step - loss: 0.6852 - accuracy: 0.7605 - val_loss: 1.1441 - val_accuracy: 0.5727\n",
      "Epoch 7/10\n",
      "366/366 [==============================] - 4s 10ms/step - loss: 0.6681 - accuracy: 0.7643 - val_loss: 1.1494 - val_accuracy: 0.5648\n",
      "Epoch 8/10\n",
      "366/366 [==============================] - 4s 10ms/step - loss: 0.6566 - accuracy: 0.7674 - val_loss: 1.1288 - val_accuracy: 0.6099\n",
      "Epoch 9/10\n",
      "366/366 [==============================] - 4s 10ms/step - loss: 0.6422 - accuracy: 0.7707 - val_loss: 1.2020 - val_accuracy: 0.5651\n",
      "Epoch 10/10\n",
      "366/366 [==============================] - 4s 10ms/step - loss: 0.6287 - accuracy: 0.7739 - val_loss: 1.2051 - val_accuracy: 0.5603\n"
     ]
    }
   ],
   "source": [
    "# 모델 실행해보기\n",
    "history = model2.fit(train_x, train_y, epochs=10, batch_size=100, validation_split= 0.2) \n",
    "  # 데이터가 50000개가 넘어 학습시간이 오래 걸리기 때문에 batch size 를 100으로 크게 잡았다\n",
    "  # 추이를 확인하게 위해 일단 10회만 시도"
   ]
  },
  {
   "cell_type": "code",
   "execution_count": 33,
   "metadata": {
    "colab": {
     "base_uri": "https://localhost:8080/",
     "height": 315
    },
    "executionInfo": {
     "elapsed": 1222,
     "status": "ok",
     "timestamp": 1625052811309,
     "user": {
      "displayName": "장준보",
      "photoUrl": "https://lh3.googleusercontent.com/a-/AOh14Gi1wOQ7PGKpBDsWEmPjG2rFr7idPoKgnOwi5x4h=s64",
      "userId": "12796992458142872403"
     },
     "user_tz": -540
    },
    "id": "728X073DV780",
    "outputId": "cbb24645-68d9-4303-8b94-51daab5033d2"
   },
   "outputs": [
    {
     "data": {
      "text/plain": [
       "<function matplotlib.pyplot.show>"
      ]
     },
     "execution_count": 33,
     "metadata": {
      "tags": []
     },
     "output_type": "execute_result"
    },
    {
     "data": {
      "image/png": "[encoded data removed]",
      "text/plain": [
       "<Figure size 864x288 with 2 Axes>"
      ]
     },
     "metadata": {
      "needs_background": "light",
      "tags": []
     },
     "output_type": "display_data"
    }
   ],
   "source": [
    "# 모델 학습 결과 확인\n",
    "plt.figure(figsize=(12, 4))\n",
    "\n",
    "plt.subplot(1, 2, 1)\n",
    "plt.title('loss of LSTM (model2) ', fontsize= 15)\n",
    "plt.plot(history.history['loss'], 'b-', label='loss')\n",
    "plt.plot(history.history['val_loss'],'r--', label='val_loss')\n",
    "plt.xlabel('Epoch')\n",
    "plt.legend()\n",
    "\n",
    "plt.subplot(1, 2, 2)\n",
    "plt.title('accuracy of LSTM (model2) ', fontsize= 15)\n",
    "plt.plot(history.history['accuracy'], 'g-', label='accuracy')\n",
    "plt.plot(history.history['val_accuracy'],'k--', label='val_accuracy')\n",
    "plt.xlabel('Epoch')\n",
    "plt.legend()\n",
    "plt.show"
   ]
  },
  {
   "cell_type": "markdown",
   "metadata": {
    "id": "Sm9nT1Qahe7m"
   },
   "source": [
    "학습 시간은 단축되었지만, 단방향 LSTM 으로도 학습이 되지 않는 것을 확인할 수 있다."
   ]
  },
  {
   "cell_type": "markdown",
   "metadata": {
    "id": "_swOdM3KhzHA"
   },
   "source": [
    "## 4.3 양방향 LSTM"
   ]
  },
  {
   "cell_type": "code",
   "execution_count": 34,
   "metadata": {
    "executionInfo": {
     "elapsed": 326,
     "status": "ok",
     "timestamp": 1625052818963,
     "user": {
      "displayName": "장준보",
      "photoUrl": "https://lh3.googleusercontent.com/a-/AOh14Gi1wOQ7PGKpBDsWEmPjG2rFr7idPoKgnOwi5x4h=s64",
      "userId": "12796992458142872403"
     },
     "user_tz": -540
    },
    "id": "70T_a5rYheb1"
   },
   "outputs": [],
   "source": [
    "#파라미터 설정\n",
    "vocab_size = 2000 # 제일 많이 사용하는 사이즈\n",
    "embedding_dim = 200  \n",
    "max_length = 14    # 위에서 그래프 확인 후 정함\n",
    "padding_type='post'\n",
    "#oov_tok = \"<OOV>\""
   ]
  },
  {
   "cell_type": "code",
   "execution_count": 36,
   "metadata": {
    "colab": {
     "base_uri": "https://localhost:8080/"
    },
    "executionInfo": {
     "elapsed": 1316,
     "status": "ok",
     "timestamp": 1625052825550,
     "user": {
      "displayName": "장준보",
      "photoUrl": "https://lh3.googleusercontent.com/a-/AOh14Gi1wOQ7PGKpBDsWEmPjG2rFr7idPoKgnOwi5x4h=s64",
      "userId": "12796992458142872403"
     },
     "user_tz": -540
    },
    "id": "sjLHTY8Uh4cT",
    "outputId": "6c0799fc-a464-40e9-e26e-10167a633306"
   },
   "outputs": [
    {
     "name": "stdout",
     "output_type": "stream",
     "text": [
      "Model: \"sequential_4\"\n",
      "_________________________________________________________________\n",
      "Layer (type)                 Output Shape              Param #   \n",
      "=================================================================\n",
      "embedding_4 (Embedding)      (None, 14, 200)           400000    \n",
      "_________________________________________________________________\n",
      "bidirectional_3 (Bidirection (None, 14, 128)           135680    \n",
      "_________________________________________________________________\n",
      "bidirectional_4 (Bidirection (None, 14, 128)           98816     \n",
      "_________________________________________________________________\n",
      "bidirectional_5 (Bidirection (None, 128)               98816     \n",
      "_________________________________________________________________\n",
      "dense_4 (Dense)              (None, 7)                 903       \n",
      "=================================================================\n",
      "Total params: 734,215\n",
      "Trainable params: 734,215\n",
      "Non-trainable params: 0\n",
      "_________________________________________________________________\n"
     ]
    }
   ],
   "source": [
    "# 양방향 LSTM 레이어를 사용한 모델 (model3) 정의\n",
    "model3 = Sequential([Embedding(vocab_size, embedding_dim, input_length =max_length),\n",
    "        tf.keras.layers.Bidirectional(LSTM(units = 64, return_sequences = True)),\n",
    "        tf.keras.layers.Bidirectional(LSTM(units = 64, return_sequences = True)),\n",
    "        tf.keras.layers.Bidirectional(LSTM(units = 64)),\n",
    "        Dense(7, activation='softmax')    # 결과값이 0~4 이므로 Dense(5)\n",
    "    ])\n",
    "    \n",
    "model3.compile(loss= 'categorical_crossentropy', #여러개 정답 중 하나 맞추는 문제이므로 손실 함수는 categorical_crossentropy\n",
    "              optimizer= 'adam',\n",
    "              metrics = ['accuracy']) \n",
    "model3.summary()"
   ]
  },
  {
   "cell_type": "code",
   "execution_count": 37,
   "metadata": {
    "colab": {
     "base_uri": "https://localhost:8080/"
    },
    "executionInfo": {
     "elapsed": 292250,
     "status": "ok",
     "timestamp": 1625053119282,
     "user": {
      "displayName": "장준보",
      "photoUrl": "https://lh3.googleusercontent.com/a-/AOh14Gi1wOQ7PGKpBDsWEmPjG2rFr7idPoKgnOwi5x4h=s64",
      "userId": "12796992458142872403"
     },
     "user_tz": -540
    },
    "id": "hO5v8csHiQjm",
    "outputId": "02124f98-521f-4c2a-b1b3-2b364152eff9"
   },
   "outputs": [
    {
     "name": "stdout",
     "output_type": "stream",
     "text": [
      "Epoch 1/50\n",
      "366/366 [==============================] - 14s 20ms/step - loss: 1.0494 - accuracy: 0.6195 - val_loss: 1.2036 - val_accuracy: 0.5615\n",
      "Epoch 2/50\n",
      "366/366 [==============================] - 6s 15ms/step - loss: 0.7740 - accuracy: 0.7342 - val_loss: 1.1613 - val_accuracy: 0.5668\n",
      "Epoch 3/50\n",
      "366/366 [==============================] - 6s 15ms/step - loss: 0.7321 - accuracy: 0.7464 - val_loss: 1.0848 - val_accuracy: 0.5981\n",
      "Epoch 4/50\n",
      "366/366 [==============================] - 6s 15ms/step - loss: 0.7006 - accuracy: 0.7546 - val_loss: 1.1740 - val_accuracy: 0.5423\n",
      "Epoch 5/50\n",
      "366/366 [==============================] - 6s 15ms/step - loss: 0.6778 - accuracy: 0.7589 - val_loss: 1.1496 - val_accuracy: 0.5704\n",
      "Epoch 6/50\n",
      "366/366 [==============================] - 6s 15ms/step - loss: 0.6616 - accuracy: 0.7628 - val_loss: 1.1296 - val_accuracy: 0.5837\n",
      "Epoch 7/50\n",
      "366/366 [==============================] - 6s 15ms/step - loss: 0.6456 - accuracy: 0.7672 - val_loss: 1.1096 - val_accuracy: 0.5948\n",
      "Epoch 8/50\n",
      "366/366 [==============================] - 6s 16ms/step - loss: 0.6290 - accuracy: 0.7706 - val_loss: 1.1659 - val_accuracy: 0.5766\n",
      "Epoch 9/50\n",
      "366/366 [==============================] - 6s 15ms/step - loss: 0.6109 - accuracy: 0.7746 - val_loss: 1.1799 - val_accuracy: 0.5835\n",
      "Epoch 10/50\n",
      "366/366 [==============================] - 6s 16ms/step - loss: 0.5918 - accuracy: 0.7807 - val_loss: 1.2567 - val_accuracy: 0.5611\n",
      "Epoch 11/50\n",
      "366/366 [==============================] - 6s 15ms/step - loss: 0.5741 - accuracy: 0.7846 - val_loss: 1.3681 - val_accuracy: 0.5580\n",
      "Epoch 12/50\n",
      "366/366 [==============================] - 6s 16ms/step - loss: 0.5541 - accuracy: 0.7905 - val_loss: 1.4000 - val_accuracy: 0.5641\n",
      "Epoch 13/50\n",
      "366/366 [==============================] - 6s 15ms/step - loss: 0.5348 - accuracy: 0.7988 - val_loss: 1.4117 - val_accuracy: 0.5631\n",
      "Epoch 14/50\n",
      "366/366 [==============================] - 6s 15ms/step - loss: 0.5158 - accuracy: 0.8037 - val_loss: 1.4423 - val_accuracy: 0.5761\n",
      "Epoch 15/50\n",
      "366/366 [==============================] - 6s 16ms/step - loss: 0.4987 - accuracy: 0.8095 - val_loss: 1.5501 - val_accuracy: 0.5455\n",
      "Epoch 16/50\n",
      "366/366 [==============================] - 6s 16ms/step - loss: 0.4816 - accuracy: 0.8148 - val_loss: 1.6181 - val_accuracy: 0.5565\n",
      "Epoch 17/50\n",
      "366/366 [==============================] - 6s 15ms/step - loss: 0.4646 - accuracy: 0.8216 - val_loss: 1.7102 - val_accuracy: 0.5523\n",
      "Epoch 18/50\n",
      "366/366 [==============================] - 6s 15ms/step - loss: 0.4496 - accuracy: 0.8269 - val_loss: 1.7568 - val_accuracy: 0.5485\n",
      "Epoch 19/50\n",
      "366/366 [==============================] - 6s 16ms/step - loss: 0.4373 - accuracy: 0.8304 - val_loss: 1.7291 - val_accuracy: 0.5545\n",
      "Epoch 20/50\n",
      "366/366 [==============================] - 6s 16ms/step - loss: 0.4236 - accuracy: 0.8362 - val_loss: 1.8697 - val_accuracy: 0.5504\n",
      "Epoch 21/50\n",
      "366/366 [==============================] - 6s 16ms/step - loss: 0.4114 - accuracy: 0.8402 - val_loss: 1.9842 - val_accuracy: 0.5374\n",
      "Epoch 22/50\n",
      "366/366 [==============================] - 6s 16ms/step - loss: 0.4016 - accuracy: 0.8432 - val_loss: 2.0431 - val_accuracy: 0.5519\n",
      "Epoch 23/50\n",
      "366/366 [==============================] - 6s 16ms/step - loss: 0.3854 - accuracy: 0.8480 - val_loss: 2.1817 - val_accuracy: 0.5451\n",
      "Epoch 24/50\n",
      "366/366 [==============================] - 6s 16ms/step - loss: 0.3763 - accuracy: 0.8512 - val_loss: 2.1828 - val_accuracy: 0.5356\n",
      "Epoch 25/50\n",
      "366/366 [==============================] - 6s 16ms/step - loss: 0.3697 - accuracy: 0.8544 - val_loss: 2.2728 - val_accuracy: 0.5330\n",
      "Epoch 26/50\n",
      "366/366 [==============================] - 6s 16ms/step - loss: 0.3596 - accuracy: 0.8586 - val_loss: 2.3380 - val_accuracy: 0.5306\n",
      "Epoch 27/50\n",
      "366/366 [==============================] - 6s 16ms/step - loss: 0.3490 - accuracy: 0.8625 - val_loss: 2.4699 - val_accuracy: 0.5280\n",
      "Epoch 28/50\n",
      "366/366 [==============================] - 6s 16ms/step - loss: 0.3485 - accuracy: 0.8617 - val_loss: 2.3820 - val_accuracy: 0.5321\n",
      "Epoch 29/50\n",
      "366/366 [==============================] - 6s 15ms/step - loss: 0.3365 - accuracy: 0.8672 - val_loss: 2.5304 - val_accuracy: 0.5320\n",
      "Epoch 30/50\n",
      "366/366 [==============================] - 6s 15ms/step - loss: 0.3315 - accuracy: 0.8691 - val_loss: 2.5907 - val_accuracy: 0.5338\n",
      "Epoch 31/50\n",
      "366/366 [==============================] - 6s 15ms/step - loss: 0.3255 - accuracy: 0.8703 - val_loss: 2.4749 - val_accuracy: 0.5370\n",
      "Epoch 32/50\n",
      "366/366 [==============================] - 6s 16ms/step - loss: 0.3220 - accuracy: 0.8713 - val_loss: 2.6282 - val_accuracy: 0.5319\n",
      "Epoch 33/50\n",
      "366/366 [==============================] - 6s 16ms/step - loss: 0.3117 - accuracy: 0.8756 - val_loss: 2.6229 - val_accuracy: 0.5418\n",
      "Epoch 34/50\n",
      "366/366 [==============================] - 6s 16ms/step - loss: 0.3081 - accuracy: 0.8768 - val_loss: 2.7448 - val_accuracy: 0.5290\n",
      "Epoch 35/50\n",
      "366/366 [==============================] - 6s 15ms/step - loss: 0.3058 - accuracy: 0.8768 - val_loss: 2.7196 - val_accuracy: 0.5273\n",
      "Epoch 36/50\n",
      "366/366 [==============================] - 6s 15ms/step - loss: 0.3031 - accuracy: 0.8793 - val_loss: 2.7874 - val_accuracy: 0.5314\n",
      "Epoch 37/50\n",
      "366/366 [==============================] - 6s 16ms/step - loss: 0.2983 - accuracy: 0.8798 - val_loss: 2.8945 - val_accuracy: 0.5358\n",
      "Epoch 38/50\n",
      "366/366 [==============================] - 6s 16ms/step - loss: 0.2909 - accuracy: 0.8823 - val_loss: 2.8439 - val_accuracy: 0.5300\n",
      "Epoch 39/50\n",
      "366/366 [==============================] - 6s 16ms/step - loss: 0.2900 - accuracy: 0.8817 - val_loss: 2.9229 - val_accuracy: 0.5297\n",
      "Epoch 40/50\n",
      "366/366 [==============================] - 6s 16ms/step - loss: 0.2910 - accuracy: 0.8817 - val_loss: 2.9299 - val_accuracy: 0.5319\n",
      "Epoch 41/50\n",
      "366/366 [==============================] - 6s 16ms/step - loss: 0.2891 - accuracy: 0.8815 - val_loss: 2.9625 - val_accuracy: 0.5240\n",
      "Epoch 42/50\n",
      "366/366 [==============================] - 6s 16ms/step - loss: 0.2891 - accuracy: 0.8829 - val_loss: 2.9464 - val_accuracy: 0.5369\n",
      "Epoch 43/50\n",
      "366/366 [==============================] - 6s 15ms/step - loss: 0.2845 - accuracy: 0.8842 - val_loss: 3.0696 - val_accuracy: 0.5280\n",
      "Epoch 44/50\n",
      "366/366 [==============================] - 6s 16ms/step - loss: 0.2792 - accuracy: 0.8869 - val_loss: 3.0846 - val_accuracy: 0.5307\n",
      "Epoch 45/50\n",
      "366/366 [==============================] - 6s 16ms/step - loss: 0.2775 - accuracy: 0.8852 - val_loss: 3.1485 - val_accuracy: 0.5317\n",
      "Epoch 46/50\n",
      "366/366 [==============================] - 6s 16ms/step - loss: 0.2768 - accuracy: 0.8852 - val_loss: 3.0867 - val_accuracy: 0.5310\n",
      "Epoch 47/50\n",
      "366/366 [==============================] - 6s 15ms/step - loss: 0.2736 - accuracy: 0.8863 - val_loss: 3.2321 - val_accuracy: 0.5275\n",
      "Epoch 48/50\n",
      "366/366 [==============================] - 6s 15ms/step - loss: 0.2743 - accuracy: 0.8853 - val_loss: 3.2397 - val_accuracy: 0.5290\n",
      "Epoch 49/50\n",
      "366/366 [==============================] - 6s 16ms/step - loss: 0.2766 - accuracy: 0.8855 - val_loss: 3.1969 - val_accuracy: 0.5240\n",
      "Epoch 50/50\n",
      "366/366 [==============================] - 6s 16ms/step - loss: 0.2760 - accuracy: 0.8859 - val_loss: 3.2252 - val_accuracy: 0.5300\n"
     ]
    }
   ],
   "source": [
    "# 모델 실행해보기\n",
    "history = model3.fit(train_x, train_y, epochs=50, batch_size=100, validation_split= 0.2) \n",
    "  # 양방향 LSTM 레이어에서는 batch size 를 100으로 잡고 50회 학습 해보았다."
   ]
  },
  {
   "cell_type": "code",
   "execution_count": 39,
   "metadata": {
    "colab": {
     "base_uri": "https://localhost:8080/",
     "height": 315
    },
    "executionInfo": {
     "elapsed": 1081,
     "status": "ok",
     "timestamp": 1625053168858,
     "user": {
      "displayName": "장준보",
      "photoUrl": "https://lh3.googleusercontent.com/a-/AOh14Gi1wOQ7PGKpBDsWEmPjG2rFr7idPoKgnOwi5x4h=s64",
      "userId": "12796992458142872403"
     },
     "user_tz": -540
    },
    "id": "5PuwZ4i5iScc",
    "outputId": "c4ef444f-acc5-4891-9d78-d69aa83e2c9a"
   },
   "outputs": [
    {
     "data": {
      "text/plain": [
       "<function matplotlib.pyplot.show>"
      ]
     },
     "execution_count": 39,
     "metadata": {
      "tags": []
     },
     "output_type": "execute_result"
    },
    {
     "data": {
      "image/png": "[encoded data removed]",
      "text/plain": [
       "<Figure size 864x288 with 2 Axes>"
      ]
     },
     "metadata": {
      "needs_background": "light",
      "tags": []
     },
     "output_type": "display_data"
    }
   ],
   "source": [
    "# 모델 학습 결과 확인\n",
    "plt.figure(figsize=(12, 4))\n",
    "\n",
    "plt.subplot(1, 2, 1)\n",
    "plt.title('loss of Bidirectional LSTM (model3) ', fontsize= 15)\n",
    "plt.plot(history.history['loss'], 'b-', label='loss')\n",
    "plt.plot(history.history['val_loss'],'r--', label='val_loss')\n",
    "plt.xlabel('Epoch')\n",
    "plt.legend()\n",
    "\n",
    "plt.subplot(1, 2, 2)\n",
    "plt.title('accuracy of Bidirectional LSTM (model3) ', fontsize= 15)\n",
    "plt.plot(history.history['accuracy'], 'g-', label='accuracy')\n",
    "plt.plot(history.history['val_accuracy'],'k--', label='val_accuracy')\n",
    "plt.xlabel('Epoch')\n",
    "plt.legend()\n",
    "plt.show"
   ]
  },
  {
   "cell_type": "markdown",
   "metadata": {
    "id": "JdJnOtGcmnaC"
   },
   "source": [
    "loss 값은 줄어드는 것을 볼 수 있으나, val_loss 값은 점점 상승한다\n",
    "accuracy 도 마찬가지로 val_accuracy 는 제대로 결과가 나오지 않는다.\n",
    "\n",
    "모델 성능 평가의 일반화를 위해 교차 검증을 해야할 것 같다."
   ]
  },
  {
   "cell_type": "markdown",
   "metadata": {
    "id": "9SV1LHwFGiHX"
   },
   "source": [
    "## 4.4 교차 검증 적용"
   ]
  },
  {
   "cell_type": "markdown",
   "metadata": {
    "id": "gSJUEGIrOEnH"
   },
   "source": [
    "- 계층 교차검증(StratifiedKFold) 적용하고 모델 일반화"
   ]
  },
  {
   "cell_type": "code",
   "execution_count": 40,
   "metadata": {
    "colab": {
     "base_uri": "https://localhost:8080/"
    },
    "executionInfo": {
     "elapsed": 76853,
     "status": "ok",
     "timestamp": 1625053253303,
     "user": {
      "displayName": "장준보",
      "photoUrl": "https://lh3.googleusercontent.com/a-/AOh14Gi1wOQ7PGKpBDsWEmPjG2rFr7idPoKgnOwi5x4h=s64",
      "userId": "12796992458142872403"
     },
     "user_tz": -540
    },
    "id": "L7eNZxouGl47",
    "outputId": "93d37905-77b0-4fba-b881-243a51419acf"
   },
   "outputs": [
    {
     "name": "stdout",
     "output_type": "stream",
     "text": [
      "training model for CV #1\n",
      "Epoch 1/10\n",
      "72/72 [==============================] - 2s 22ms/step - loss: 0.6590 - accuracy: 0.8191 - val_loss: 0.5847 - val_accuracy: 0.8224\n",
      "Epoch 2/10\n",
      "72/72 [==============================] - 2s 21ms/step - loss: 0.4742 - accuracy: 0.8414 - val_loss: 0.5622 - val_accuracy: 0.8237\n",
      "Epoch 3/10\n",
      "72/72 [==============================] - 2s 21ms/step - loss: 0.4219 - accuracy: 0.8528 - val_loss: 0.5571 - val_accuracy: 0.8228\n",
      "Epoch 4/10\n",
      "72/72 [==============================] - 2s 21ms/step - loss: 0.3940 - accuracy: 0.8587 - val_loss: 0.5660 - val_accuracy: 0.8200\n",
      "Epoch 5/10\n",
      "72/72 [==============================] - 2s 21ms/step - loss: 0.3755 - accuracy: 0.8630 - val_loss: 0.5737 - val_accuracy: 0.8172\n",
      "Epoch 6/10\n",
      "72/72 [==============================] - 2s 21ms/step - loss: 0.3605 - accuracy: 0.8658 - val_loss: 0.5817 - val_accuracy: 0.8154\n",
      "Epoch 7/10\n",
      "72/72 [==============================] - 2s 21ms/step - loss: 0.3487 - accuracy: 0.8683 - val_loss: 0.5951 - val_accuracy: 0.8128\n",
      "Epoch 8/10\n",
      "72/72 [==============================] - 1s 21ms/step - loss: 0.3386 - accuracy: 0.8702 - val_loss: 0.6055 - val_accuracy: 0.8116\n",
      "Epoch 9/10\n",
      "72/72 [==============================] - 2s 21ms/step - loss: 0.3302 - accuracy: 0.8731 - val_loss: 0.6168 - val_accuracy: 0.8100\n",
      "Epoch 10/10\n",
      "72/72 [==============================] - 1s 21ms/step - loss: 0.3233 - accuracy: 0.8735 - val_loss: 0.6272 - val_accuracy: 0.8085\n",
      "training model for CV #2\n",
      "Epoch 1/10\n",
      "72/72 [==============================] - 2s 21ms/step - loss: 0.3971 - accuracy: 0.8570 - val_loss: 0.3329 - val_accuracy: 0.8733\n",
      "Epoch 2/10\n",
      "72/72 [==============================] - 1s 21ms/step - loss: 0.3544 - accuracy: 0.8663 - val_loss: 0.3423 - val_accuracy: 0.8685\n",
      "Epoch 3/10\n",
      "72/72 [==============================] - 2s 21ms/step - loss: 0.3346 - accuracy: 0.8709 - val_loss: 0.3549 - val_accuracy: 0.8614\n",
      "Epoch 4/10\n",
      "72/72 [==============================] - 2s 21ms/step - loss: 0.3229 - accuracy: 0.8730 - val_loss: 0.3642 - val_accuracy: 0.8568\n",
      "Epoch 5/10\n",
      "72/72 [==============================] - 2s 21ms/step - loss: 0.3145 - accuracy: 0.8757 - val_loss: 0.3761 - val_accuracy: 0.8540\n",
      "Epoch 6/10\n",
      "72/72 [==============================] - 2s 21ms/step - loss: 0.3078 - accuracy: 0.8774 - val_loss: 0.3876 - val_accuracy: 0.8507\n",
      "Epoch 7/10\n",
      "72/72 [==============================] - 2s 21ms/step - loss: 0.3031 - accuracy: 0.8772 - val_loss: 0.3988 - val_accuracy: 0.8489\n",
      "Epoch 8/10\n",
      "72/72 [==============================] - 2s 21ms/step - loss: 0.2988 - accuracy: 0.8794 - val_loss: 0.4069 - val_accuracy: 0.8459\n",
      "Epoch 9/10\n",
      "72/72 [==============================] - 2s 21ms/step - loss: 0.2957 - accuracy: 0.8793 - val_loss: 0.4216 - val_accuracy: 0.8414\n",
      "Epoch 10/10\n",
      "72/72 [==============================] - 2s 21ms/step - loss: 0.2925 - accuracy: 0.8796 - val_loss: 0.4301 - val_accuracy: 0.8394\n",
      "training model for CV #3\n",
      "Epoch 1/10\n",
      "72/72 [==============================] - 2s 21ms/step - loss: 0.3291 - accuracy: 0.8705 - val_loss: 0.2958 - val_accuracy: 0.8794\n",
      "Epoch 2/10\n",
      "72/72 [==============================] - 2s 21ms/step - loss: 0.3113 - accuracy: 0.8750 - val_loss: 0.3074 - val_accuracy: 0.8734\n",
      "Epoch 3/10\n",
      "72/72 [==============================] - 2s 21ms/step - loss: 0.3021 - accuracy: 0.8770 - val_loss: 0.3178 - val_accuracy: 0.8703\n",
      "Epoch 4/10\n",
      "72/72 [==============================] - 2s 22ms/step - loss: 0.2962 - accuracy: 0.8792 - val_loss: 0.3314 - val_accuracy: 0.8657\n",
      "Epoch 5/10\n",
      "72/72 [==============================] - 2s 21ms/step - loss: 0.2924 - accuracy: 0.8797 - val_loss: 0.3419 - val_accuracy: 0.8630\n",
      "Epoch 6/10\n",
      "72/72 [==============================] - 2s 21ms/step - loss: 0.2895 - accuracy: 0.8802 - val_loss: 0.3524 - val_accuracy: 0.8604\n",
      "Epoch 7/10\n",
      "72/72 [==============================] - 2s 21ms/step - loss: 0.2880 - accuracy: 0.8793 - val_loss: 0.3648 - val_accuracy: 0.8577\n",
      "Epoch 8/10\n",
      "72/72 [==============================] - 1s 21ms/step - loss: 0.2864 - accuracy: 0.8807 - val_loss: 0.3747 - val_accuracy: 0.8561\n",
      "Epoch 9/10\n",
      "72/72 [==============================] - 1s 21ms/step - loss: 0.2844 - accuracy: 0.8803 - val_loss: 0.3836 - val_accuracy: 0.8540\n",
      "Epoch 10/10\n",
      "72/72 [==============================] - 2s 21ms/step - loss: 0.2837 - accuracy: 0.8812 - val_loss: 0.3937 - val_accuracy: 0.8528\n",
      "training model for CV #4\n",
      "Epoch 1/10\n",
      "72/72 [==============================] - 2s 21ms/step - loss: 0.3143 - accuracy: 0.8731 - val_loss: 0.2959 - val_accuracy: 0.8773\n",
      "Epoch 2/10\n",
      "72/72 [==============================] - 2s 21ms/step - loss: 0.3000 - accuracy: 0.8774 - val_loss: 0.3121 - val_accuracy: 0.8715\n",
      "Epoch 3/10\n",
      "72/72 [==============================] - 2s 21ms/step - loss: 0.2916 - accuracy: 0.8799 - val_loss: 0.3226 - val_accuracy: 0.8651\n",
      "Epoch 4/10\n",
      "72/72 [==============================] - 2s 21ms/step - loss: 0.2873 - accuracy: 0.8806 - val_loss: 0.3358 - val_accuracy: 0.8628\n",
      "Epoch 5/10\n",
      "72/72 [==============================] - 2s 21ms/step - loss: 0.2837 - accuracy: 0.8810 - val_loss: 0.3458 - val_accuracy: 0.8614\n",
      "Epoch 6/10\n",
      "72/72 [==============================] - 2s 21ms/step - loss: 0.2807 - accuracy: 0.8826 - val_loss: 0.3590 - val_accuracy: 0.8588\n",
      "Epoch 7/10\n",
      "72/72 [==============================] - 2s 21ms/step - loss: 0.2799 - accuracy: 0.8818 - val_loss: 0.3691 - val_accuracy: 0.8578\n",
      "Epoch 8/10\n",
      "72/72 [==============================] - 2s 21ms/step - loss: 0.2783 - accuracy: 0.8828 - val_loss: 0.3760 - val_accuracy: 0.8548\n",
      "Epoch 9/10\n",
      "72/72 [==============================] - 2s 21ms/step - loss: 0.2774 - accuracy: 0.8821 - val_loss: 0.3855 - val_accuracy: 0.8554\n",
      "Epoch 10/10\n",
      "72/72 [==============================] - 2s 21ms/step - loss: 0.2763 - accuracy: 0.8827 - val_loss: 0.3948 - val_accuracy: 0.8538\n",
      "training model for CV #5\n",
      "Epoch 1/10\n",
      "72/72 [==============================] - 2s 21ms/step - loss: 0.3056 - accuracy: 0.8749 - val_loss: 0.2986 - val_accuracy: 0.8751\n",
      "Epoch 2/10\n",
      "72/72 [==============================] - 2s 21ms/step - loss: 0.2914 - accuracy: 0.8792 - val_loss: 0.3068 - val_accuracy: 0.8726\n",
      "Epoch 3/10\n",
      "72/72 [==============================] - 2s 21ms/step - loss: 0.2846 - accuracy: 0.8808 - val_loss: 0.3204 - val_accuracy: 0.8652\n",
      "Epoch 4/10\n",
      "72/72 [==============================] - 2s 21ms/step - loss: 0.2815 - accuracy: 0.8818 - val_loss: 0.3302 - val_accuracy: 0.8625\n",
      "Epoch 5/10\n",
      "72/72 [==============================] - 2s 21ms/step - loss: 0.2782 - accuracy: 0.8827 - val_loss: 0.3393 - val_accuracy: 0.8595\n",
      "Epoch 6/10\n",
      "72/72 [==============================] - 2s 21ms/step - loss: 0.2764 - accuracy: 0.8827 - val_loss: 0.3503 - val_accuracy: 0.8572\n",
      "Epoch 7/10\n",
      "72/72 [==============================] - 2s 21ms/step - loss: 0.2755 - accuracy: 0.8823 - val_loss: 0.3576 - val_accuracy: 0.8536\n",
      "Epoch 8/10\n",
      "72/72 [==============================] - 2s 21ms/step - loss: 0.2743 - accuracy: 0.8841 - val_loss: 0.3628 - val_accuracy: 0.8564\n",
      "Epoch 9/10\n",
      "72/72 [==============================] - 1s 21ms/step - loss: 0.2740 - accuracy: 0.8823 - val_loss: 0.3695 - val_accuracy: 0.8541\n",
      "Epoch 10/10\n",
      "72/72 [==============================] - 2s 21ms/step - loss: 0.2734 - accuracy: 0.8830 - val_loss: 0.3758 - val_accuracy: 0.8527\n"
     ]
    }
   ],
   "source": [
    "# 계층 교차 검증\n",
    "n_fold = 5  \n",
    "seed = 42\n",
    "\n",
    "cv = StratifiedKFold(n_splits = n_fold, shuffle=True, random_state=seed)\n",
    "\n",
    "for i, (i_trn, i_val) in enumerate(cv.split(train_x, Y_train), 1):\n",
    "    print(f'training model for CV #{i}')\n",
    "\n",
    "    model3.fit(train_x[i_trn], \n",
    "            to_categorical(Y_train[i_trn]),\n",
    "            validation_data=(train_x[i_val], to_categorical(Y_train[i_val])),\n",
    "            epochs=10,\n",
    "            batch_size=512)"
   ]
  },
  {
   "cell_type": "markdown",
   "metadata": {
    "id": "eTNkSgTdqUoL"
   },
   "source": [
    "기존 보다 개선된 결과 값을 보여준다.\n",
    "하지만 val_loss 와 val_accuracy 결과값을 보면 조기종료 옵션을 추가해야할 것 같다."
   ]
  },
  {
   "cell_type": "code",
   "execution_count": 42,
   "metadata": {
    "colab": {
     "base_uri": "https://localhost:8080/"
    },
    "executionInfo": {
     "elapsed": 53641,
     "status": "ok",
     "timestamp": 1625053328685,
     "user": {
      "displayName": "장준보",
      "photoUrl": "https://lh3.googleusercontent.com/a-/AOh14Gi1wOQ7PGKpBDsWEmPjG2rFr7idPoKgnOwi5x4h=s64",
      "userId": "12796992458142872403"
     },
     "user_tz": -540
    },
    "id": "TWg9PFhCS7f2",
    "outputId": "1714fa62-4e36-4123-afbb-b18530365e47"
   },
   "outputs": [
    {
     "name": "stdout",
     "output_type": "stream",
     "text": [
      "training model for CV #1\n",
      "Epoch 1/10\n",
      "72/72 [==============================] - 2s 22ms/step - loss: 0.2896 - accuracy: 0.8785 - val_loss: 0.2975 - val_accuracy: 0.8770\n",
      "Epoch 2/10\n",
      "72/72 [==============================] - 2s 21ms/step - loss: 0.2849 - accuracy: 0.8798 - val_loss: 0.3099 - val_accuracy: 0.8715\n",
      "Epoch 3/10\n",
      "72/72 [==============================] - 2s 21ms/step - loss: 0.2823 - accuracy: 0.8807 - val_loss: 0.3234 - val_accuracy: 0.8689\n",
      "Epoch 4/10\n",
      "72/72 [==============================] - 1s 21ms/step - loss: 0.2795 - accuracy: 0.8811 - val_loss: 0.3374 - val_accuracy: 0.8669\n",
      "Restoring model weights from the end of the best epoch.\n",
      "Epoch 00004: early stopping\n",
      "training model for CV #2\n",
      "Epoch 1/10\n",
      "72/72 [==============================] - 2s 21ms/step - loss: 0.2914 - accuracy: 0.8770 - val_loss: 0.2853 - val_accuracy: 0.8807\n",
      "Epoch 2/10\n",
      "72/72 [==============================] - 2s 21ms/step - loss: 0.2862 - accuracy: 0.8792 - val_loss: 0.3011 - val_accuracy: 0.8735\n",
      "Epoch 3/10\n",
      "72/72 [==============================] - 2s 21ms/step - loss: 0.2818 - accuracy: 0.8811 - val_loss: 0.3111 - val_accuracy: 0.8698\n",
      "Epoch 4/10\n",
      "72/72 [==============================] - 2s 21ms/step - loss: 0.2795 - accuracy: 0.8819 - val_loss: 0.3232 - val_accuracy: 0.8656\n",
      "Restoring model weights from the end of the best epoch.\n",
      "Epoch 00004: early stopping\n",
      "training model for CV #3\n",
      "Epoch 1/10\n",
      "72/72 [==============================] - 2s 21ms/step - loss: 0.2905 - accuracy: 0.8784 - val_loss: 0.2807 - val_accuracy: 0.8794\n",
      "Epoch 2/10\n",
      "72/72 [==============================] - 2s 21ms/step - loss: 0.2844 - accuracy: 0.8802 - val_loss: 0.2940 - val_accuracy: 0.8739\n",
      "Epoch 3/10\n",
      "72/72 [==============================] - 2s 21ms/step - loss: 0.2819 - accuracy: 0.8813 - val_loss: 0.3086 - val_accuracy: 0.8693\n",
      "Epoch 4/10\n",
      "72/72 [==============================] - 2s 21ms/step - loss: 0.2805 - accuracy: 0.8814 - val_loss: 0.3171 - val_accuracy: 0.8706\n",
      "Restoring model weights from the end of the best epoch.\n",
      "Epoch 00004: early stopping\n",
      "training model for CV #4\n",
      "Epoch 1/10\n",
      "72/72 [==============================] - 2s 24ms/step - loss: 0.2859 - accuracy: 0.8799 - val_loss: 0.2918 - val_accuracy: 0.8741\n",
      "Epoch 2/10\n",
      "72/72 [==============================] - 2s 22ms/step - loss: 0.2819 - accuracy: 0.8814 - val_loss: 0.3049 - val_accuracy: 0.8710\n",
      "Epoch 3/10\n",
      "72/72 [==============================] - 2s 21ms/step - loss: 0.2778 - accuracy: 0.8817 - val_loss: 0.3160 - val_accuracy: 0.8680\n",
      "Epoch 4/10\n",
      "72/72 [==============================] - 2s 21ms/step - loss: 0.2754 - accuracy: 0.8823 - val_loss: 0.3297 - val_accuracy: 0.8668\n",
      "Restoring model weights from the end of the best epoch.\n",
      "Epoch 00004: early stopping\n",
      "training model for CV #5\n",
      "Epoch 1/10\n",
      "72/72 [==============================] - 2s 22ms/step - loss: 0.2822 - accuracy: 0.8803 - val_loss: 0.3025 - val_accuracy: 0.8712\n",
      "Epoch 2/10\n",
      "72/72 [==============================] - 2s 22ms/step - loss: 0.2771 - accuracy: 0.8836 - val_loss: 0.3165 - val_accuracy: 0.8669\n",
      "Epoch 3/10\n",
      "72/72 [==============================] - 2s 22ms/step - loss: 0.2746 - accuracy: 0.8829 - val_loss: 0.3279 - val_accuracy: 0.8629\n",
      "Epoch 4/10\n",
      "72/72 [==============================] - 2s 22ms/step - loss: 0.2732 - accuracy: 0.8832 - val_loss: 0.3382 - val_accuracy: 0.8601\n",
      "Restoring model weights from the end of the best epoch.\n",
      "Epoch 00004: early stopping\n"
     ]
    }
   ],
   "source": [
    "# 계층 교차 검증\n",
    "n_fold = 5  \n",
    "seed = 42\n",
    "\n",
    "cv = StratifiedKFold(n_splits = n_fold, shuffle=True, random_state=seed)\n",
    "\n",
    "# 테스트데이터의 예측값 담을 곳 생성\n",
    "test_y = np.zeros((test_x.shape[0], 7))\n",
    "\n",
    "# 조기 종료 옵션 추가\n",
    "es = EarlyStopping(monitor='val_loss', min_delta=0.001, patience=3,\n",
    "                   verbose=1, mode='min', baseline=None, restore_best_weights=True)\n",
    "\n",
    "for i, (i_trn, i_val) in enumerate(cv.split(train_x, Y_train), 1):\n",
    "    print(f'training model for CV #{i}')\n",
    "\n",
    "    model3.fit(train_x[i_trn], \n",
    "            to_categorical(Y_train[i_trn]),\n",
    "            validation_data=(train_x[i_val], to_categorical(Y_train[i_val])),\n",
    "            epochs=10,\n",
    "            batch_size=512,\n",
    "            callbacks=[es])     # 조기 종료 옵션\n",
    "                      \n",
    "    test_y += model3.predict(test_x) / n_fold    # 나온 예측값들을 교차 검증 횟수로 나눈다"
   ]
  },
  {
   "cell_type": "markdown",
   "metadata": {
    "id": "qOE1-GQSh5L7"
   },
   "source": [
    "## 4.5 테스트 데이터 적용"
   ]
  },
  {
   "cell_type": "code",
   "execution_count": 43,
   "metadata": {
    "colab": {
     "base_uri": "https://localhost:8080/"
    },
    "executionInfo": {
     "elapsed": 330,
     "status": "ok",
     "timestamp": 1625053349641,
     "user": {
      "displayName": "장준보",
      "photoUrl": "https://lh3.googleusercontent.com/a-/AOh14Gi1wOQ7PGKpBDsWEmPjG2rFr7idPoKgnOwi5x4h=s64",
      "userId": "12796992458142872403"
     },
     "user_tz": -540
    },
    "id": "Gi6aL4wpeowp",
    "outputId": "33f1e659-410d-45d8-a161-72a4710c8f75"
   },
   "outputs": [
    {
     "data": {
      "text/plain": [
       "array([[9.19452175e-01, 3.70534908e-05, 8.00730935e-02, ...,\n",
       "        4.84523187e-06, 8.96312072e-05, 2.85860388e-04],\n",
       "       [8.25175913e-02, 1.06858810e-01, 2.32146721e-01, ...,\n",
       "        1.09151062e-01, 6.97348276e-02, 1.26029879e-01],\n",
       "       [3.64934131e-01, 6.30707584e-01, 4.25912091e-03, ...,\n",
       "        6.50975339e-05, 8.26598159e-08, 2.53357219e-05],\n",
       "       ...,\n",
       "       [2.73476664e-09, 2.91278629e-05, 1.19794656e-01, ...,\n",
       "        5.49258624e-04, 3.98732575e-06, 2.10561517e-03],\n",
       "       [1.53710339e-01, 1.31447507e-04, 1.05901030e-01, ...,\n",
       "        6.29704510e-03, 1.92916762e-05, 4.95813001e-03],\n",
       "       [2.00573417e-05, 4.14072454e-03, 9.88123000e-01, ...,\n",
       "        5.12174537e-04, 6.50821325e-07, 7.20292729e-03]])"
      ]
     },
     "execution_count": 43,
     "metadata": {
      "tags": []
     },
     "output_type": "execute_result"
    }
   ],
   "source": [
    "# 테스트 데이터의 예측값 확인\n",
    "test_y"
   ]
  },
  {
   "cell_type": "code",
   "execution_count": 44,
   "metadata": {
    "executionInfo": {
     "elapsed": 329,
     "status": "ok",
     "timestamp": 1625053406666,
     "user": {
      "displayName": "장준보",
      "photoUrl": "https://lh3.googleusercontent.com/a-/AOh14Gi1wOQ7PGKpBDsWEmPjG2rFr7idPoKgnOwi5x4h=s64",
      "userId": "12796992458142872403"
     },
     "user_tz": -540
    },
    "id": "pGt_dh3uuk5N"
   },
   "outputs": [],
   "source": [
    "topic = []\n",
    "for i in range(len(test_y)):\n",
    "    topic.append(np.argmax(test_y[i]))"
   ]
  },
  {
   "cell_type": "code",
   "execution_count": 46,
   "metadata": {
    "colab": {
     "base_uri": "https://localhost:8080/",
     "height": 422
    },
    "executionInfo": {
     "elapsed": 352,
     "status": "ok",
     "timestamp": 1625053484335,
     "user": {
      "displayName": "장준보",
      "photoUrl": "https://lh3.googleusercontent.com/a-/AOh14Gi1wOQ7PGKpBDsWEmPjG2rFr7idPoKgnOwi5x4h=s64",
      "userId": "12796992458142872403"
     },
     "user_tz": -540
    },
    "id": "7cHGgHA-vE7o",
    "outputId": "4ea295a3-91bd-480d-ad0b-ac3dcaca8123"
   },
   "outputs": [
    {
     "data": {
      "text/html": [
       "<div>\n",
       "<style scoped>\n",
       "    .dataframe tbody tr th:only-of-type {\n",
       "        vertical-align: middle;\n",
       "    }\n",
       "\n",
       "    .dataframe tbody tr th {\n",
       "        vertical-align: top;\n",
       "    }\n",
       "\n",
       "    .dataframe thead th {\n",
       "        text-align: right;\n",
       "    }\n",
       "</style>\n",
       "<table border=\"1\" class=\"dataframe\">\n",
       "  <thead>\n",
       "    <tr style=\"text-align: right;\">\n",
       "      <th></th>\n",
       "      <th>index</th>\n",
       "      <th>topic_idx</th>\n",
       "    </tr>\n",
       "  </thead>\n",
       "  <tbody>\n",
       "    <tr>\n",
       "      <th>0</th>\n",
       "      <td>45654</td>\n",
       "      <td>0</td>\n",
       "    </tr>\n",
       "    <tr>\n",
       "      <th>1</th>\n",
       "      <td>45655</td>\n",
       "      <td>0</td>\n",
       "    </tr>\n",
       "    <tr>\n",
       "      <th>2</th>\n",
       "      <td>45656</td>\n",
       "      <td>0</td>\n",
       "    </tr>\n",
       "    <tr>\n",
       "      <th>3</th>\n",
       "      <td>45657</td>\n",
       "      <td>0</td>\n",
       "    </tr>\n",
       "    <tr>\n",
       "      <th>4</th>\n",
       "      <td>45658</td>\n",
       "      <td>0</td>\n",
       "    </tr>\n",
       "    <tr>\n",
       "      <th>...</th>\n",
       "      <td>...</td>\n",
       "      <td>...</td>\n",
       "    </tr>\n",
       "    <tr>\n",
       "      <th>9126</th>\n",
       "      <td>54780</td>\n",
       "      <td>0</td>\n",
       "    </tr>\n",
       "    <tr>\n",
       "      <th>9127</th>\n",
       "      <td>54781</td>\n",
       "      <td>0</td>\n",
       "    </tr>\n",
       "    <tr>\n",
       "      <th>9128</th>\n",
       "      <td>54782</td>\n",
       "      <td>0</td>\n",
       "    </tr>\n",
       "    <tr>\n",
       "      <th>9129</th>\n",
       "      <td>54783</td>\n",
       "      <td>0</td>\n",
       "    </tr>\n",
       "    <tr>\n",
       "      <th>9130</th>\n",
       "      <td>54784</td>\n",
       "      <td>0</td>\n",
       "    </tr>\n",
       "  </tbody>\n",
       "</table>\n",
       "<p>9131 rows × 2 columns</p>\n",
       "</div>"
      ],
      "text/plain": [
       "      index  topic_idx\n",
       "0     45654          0\n",
       "1     45655          0\n",
       "2     45656          0\n",
       "3     45657          0\n",
       "4     45658          0\n",
       "...     ...        ...\n",
       "9126  54780          0\n",
       "9127  54781          0\n",
       "9128  54782          0\n",
       "9129  54783          0\n",
       "9130  54784          0\n",
       "\n",
       "[9131 rows x 2 columns]"
      ]
     },
     "execution_count": 46,
     "metadata": {
      "tags": []
     },
     "output_type": "execute_result"
    }
   ],
   "source": [
    "submission"
   ]
  },
  {
   "cell_type": "code",
   "execution_count": 48,
   "metadata": {
    "colab": {
     "base_uri": "https://localhost:8080/",
     "height": 422
    },
    "executionInfo": {
     "elapsed": 346,
     "status": "ok",
     "timestamp": 1625053512430,
     "user": {
      "displayName": "장준보",
      "photoUrl": "https://lh3.googleusercontent.com/a-/AOh14Gi1wOQ7PGKpBDsWEmPjG2rFr7idPoKgnOwi5x4h=s64",
      "userId": "12796992458142872403"
     },
     "user_tz": -540
    },
    "id": "C7Hm0mYxe90w",
    "outputId": "466440fa-fc22-403f-e90a-7926069ce09a"
   },
   "outputs": [
    {
     "data": {
      "text/html": [
       "<div>\n",
       "<style scoped>\n",
       "    .dataframe tbody tr th:only-of-type {\n",
       "        vertical-align: middle;\n",
       "    }\n",
       "\n",
       "    .dataframe tbody tr th {\n",
       "        vertical-align: top;\n",
       "    }\n",
       "\n",
       "    .dataframe thead th {\n",
       "        text-align: right;\n",
       "    }\n",
       "</style>\n",
       "<table border=\"1\" class=\"dataframe\">\n",
       "  <thead>\n",
       "    <tr style=\"text-align: right;\">\n",
       "      <th></th>\n",
       "      <th>index</th>\n",
       "      <th>topic_idx</th>\n",
       "    </tr>\n",
       "  </thead>\n",
       "  <tbody>\n",
       "    <tr>\n",
       "      <th>0</th>\n",
       "      <td>45654</td>\n",
       "      <td>0</td>\n",
       "    </tr>\n",
       "    <tr>\n",
       "      <th>1</th>\n",
       "      <td>45655</td>\n",
       "      <td>3</td>\n",
       "    </tr>\n",
       "    <tr>\n",
       "      <th>2</th>\n",
       "      <td>45656</td>\n",
       "      <td>1</td>\n",
       "    </tr>\n",
       "    <tr>\n",
       "      <th>3</th>\n",
       "      <td>45657</td>\n",
       "      <td>2</td>\n",
       "    </tr>\n",
       "    <tr>\n",
       "      <th>4</th>\n",
       "      <td>45658</td>\n",
       "      <td>3</td>\n",
       "    </tr>\n",
       "    <tr>\n",
       "      <th>...</th>\n",
       "      <td>...</td>\n",
       "      <td>...</td>\n",
       "    </tr>\n",
       "    <tr>\n",
       "      <th>9126</th>\n",
       "      <td>54780</td>\n",
       "      <td>2</td>\n",
       "    </tr>\n",
       "    <tr>\n",
       "      <th>9127</th>\n",
       "      <td>54781</td>\n",
       "      <td>3</td>\n",
       "    </tr>\n",
       "    <tr>\n",
       "      <th>9128</th>\n",
       "      <td>54782</td>\n",
       "      <td>3</td>\n",
       "    </tr>\n",
       "    <tr>\n",
       "      <th>9129</th>\n",
       "      <td>54783</td>\n",
       "      <td>3</td>\n",
       "    </tr>\n",
       "    <tr>\n",
       "      <th>9130</th>\n",
       "      <td>54784</td>\n",
       "      <td>2</td>\n",
       "    </tr>\n",
       "  </tbody>\n",
       "</table>\n",
       "<p>9131 rows × 2 columns</p>\n",
       "</div>"
      ],
      "text/plain": [
       "      index  topic_idx\n",
       "0     45654          0\n",
       "1     45655          3\n",
       "2     45656          1\n",
       "3     45657          2\n",
       "4     45658          3\n",
       "...     ...        ...\n",
       "9126  54780          2\n",
       "9127  54781          3\n",
       "9128  54782          3\n",
       "9129  54783          3\n",
       "9130  54784          2\n",
       "\n",
       "[9131 rows x 2 columns]"
      ]
     },
     "execution_count": 48,
     "metadata": {
      "tags": []
     },
     "output_type": "execute_result"
    }
   ],
   "source": [
    "# sample_submission 에 대입\n",
    "submission['topic_idx'] = topic\n",
    "submission"
   ]
  },
  {
   "cell_type": "code",
   "execution_count": 49,
   "metadata": {
    "executionInfo": {
     "elapsed": 345,
     "status": "ok",
     "timestamp": 1625053528445,
     "user": {
      "displayName": "장준보",
      "photoUrl": "https://lh3.googleusercontent.com/a-/AOh14Gi1wOQ7PGKpBDsWEmPjG2rFr7idPoKgnOwi5x4h=s64",
      "userId": "12796992458142872403"
     },
     "user_tz": -540
    },
    "id": "TSCsnA51vMsL"
   },
   "outputs": [],
   "source": [
    "submission.to_csv(PATH + 'LSTM.csv',index = False)"
   ]
  },
  {
   "cell_type": "markdown",
   "metadata": {
    "id": "bY8s-7GEzTWH"
   },
   "source": [
    "# E.O.D"
   ]
  }
 ],
 "metadata": {
  "accelerator": "GPU",
  "colab": {
   "collapsed_sections": [],
   "name": "양방향_LSTM을 활용한 예측 모델.ipynb",
   "provenance": [],
   "toc_visible": true
  },
  "kernelspec": {
   "display_name": "Python 3",
   "language": "python",
   "name": "python3"
  }
 },
 "nbformat": 4,
 "nbformat_minor": 1
}
