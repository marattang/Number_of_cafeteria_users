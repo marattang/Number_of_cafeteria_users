{
 "cells": [
  {
   "cell_type": "code",
   "execution_count": null,
   "id": "90a80dc7",
   "metadata": {},
   "outputs": [],
   "source": [
    "import pandas as pd"
   ]
  },
  {
   "cell_type": "code",
   "execution_count": null,
   "id": "423cbf2c",
   "metadata": {},
   "outputs": [],
   "source": [
    "dataset = pd.read_excel('./data/rawdata/corona.xlsx', usecols='A:B', header=5)\n",
    "test = pd.read_csv('./data/preprocess/prepro_test.csv')\n",
    "train = pd.read_csv('./data/preprocess/prepro_train.csv')"
   ]
  }
 ],
 "metadata": {
  "kernelspec": {
   "display_name": "Python 3",
   "language": "python",
   "name": "python3"
  }
 },
 "nbformat": 4,
 "nbformat_minor": 5
}
